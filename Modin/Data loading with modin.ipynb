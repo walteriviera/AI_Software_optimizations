{
 "cells": [
  {
   "cell_type": "code",
   "execution_count": 1,
   "id": "ed8f90b8",
   "metadata": {},
   "outputs": [],
   "source": [
    "import numpy as np\n",
    "import matplotlib.pyplot as plt\n",
    "import time\n",
    "import os"
   ]
  },
  {
   "cell_type": "markdown",
   "id": "274583f4",
   "metadata": {},
   "source": [
    "### Import Pandas"
   ]
  },
  {
   "cell_type": "code",
   "execution_count": 2,
   "id": "2b91c663",
   "metadata": {},
   "outputs": [],
   "source": [
    "import pandas as pd"
   ]
  },
  {
   "cell_type": "markdown",
   "id": "9f2fea72",
   "metadata": {},
   "source": [
    "### Import Modin"
   ]
  },
  {
   "cell_type": "code",
   "execution_count": 3,
   "id": "dd575ddf",
   "metadata": {},
   "outputs": [
    {
     "name": "stdout",
     "output_type": "stream",
     "text": [
      "Found 80 physical cores: setting done\n"
     ]
    }
   ],
   "source": [
    "#!conda install modin\n",
    "import psutil\n",
    "cores = psutil.cpu_count(logical=False)\n",
    "\n",
    "os.environ[\"MODIN_ENGINE\"] = \"dask\"  # Modin will use Dask\n",
    "os.environ[\"MODIN_CPUS\"] = str(cores)\n",
    "\n",
    "print(f\"Found {cores} physical cores: setting done\")\n",
    "\n",
    "from distributed import Client\n",
    "client = Client()\n",
    "\n",
    "import modin.pandas as mpd"
   ]
  },
  {
   "cell_type": "markdown",
   "id": "d268c8c6",
   "metadata": {},
   "source": [
    "## Let's create a syntetic dataset"
   ]
  },
  {
   "cell_type": "code",
   "execution_count": 4,
   "id": "f3cf32e2",
   "metadata": {},
   "outputs": [
    {
     "name": "stdout",
     "output_type": "stream",
     "text": [
      "File found\n"
     ]
    }
   ],
   "source": [
    "filename = \"example.csv\"\n",
    "\n",
    "if not os.path.exists(filename):\n",
    "    array = np.random.randint(low=100,high=10000,size=(2**18,2**8))\n",
    "    np.savetxt('example.csv', array, delimiter=\",\")\n",
    "    print(\"File saved\")\n",
    "\n",
    "else:\n",
    "    print(\"File found\")"
   ]
  },
  {
   "cell_type": "markdown",
   "id": "cd8f705e",
   "metadata": {},
   "source": [
    "## Load the synthetic Dataset\n",
    "\n",
    "#### Using Pandas"
   ]
  },
  {
   "cell_type": "code",
   "execution_count": 5,
   "id": "63414dfe",
   "metadata": {},
   "outputs": [
    {
     "name": "stdout",
     "output_type": "stream",
     "text": [
      "CPU times: user 13.8 s, sys: 2.74 s, total: 16.6 s\n",
      "Wall time: 15.8 s\n"
     ]
    }
   ],
   "source": [
    "%%time\n",
    "pandas_df = pd.read_csv(filename, names=[\"col{}\".format(i) for i in range(256)])"
   ]
  },
  {
   "cell_type": "code",
   "execution_count": 6,
   "id": "cc527c89",
   "metadata": {},
   "outputs": [
    {
     "name": "stdout",
     "output_type": "stream",
     "text": [
      "CPU times: user 2.07 s, sys: 923 ms, total: 3 s\n",
      "Wall time: 3.33 s\n"
     ]
    }
   ],
   "source": [
    "%%time\n",
    "modin_df = mpd.read_csv(filename, names=[\"col{}\".format(i) for i in range(256)])"
   ]
  },
  {
   "cell_type": "markdown",
   "id": "39414790",
   "metadata": {},
   "source": [
    "## Data transformations"
   ]
  },
  {
   "cell_type": "code",
   "execution_count": 7,
   "id": "1d4a4ddd",
   "metadata": {},
   "outputs": [
    {
     "name": "stdout",
     "output_type": "stream",
     "text": [
      "Stock Pandas wall time for completion:16.50693702697754s\n"
     ]
    }
   ],
   "source": [
    "t0= time.time()\n",
    "\n",
    "pandas_df.applymap(lambda x: x**5+ x**2)\n",
    "pandas_time = time.time() - t0\n",
    "print(f\"Stock Pandas wall time for completion:{pandas_time}s\")"
   ]
  },
  {
   "cell_type": "code",
   "execution_count": 8,
   "id": "6c1607fb",
   "metadata": {},
   "outputs": [
    {
     "name": "stderr",
     "output_type": "stream",
     "text": [
      "UserWarning: User-defined function verification is still under development in Modin. The function provided is not verified.\n"
     ]
    },
    {
     "name": "stdout",
     "output_type": "stream",
     "text": [
      "Modin wall time for completion:0.40700316429138184s\n"
     ]
    }
   ],
   "source": [
    "t0= time.time()\n",
    "\n",
    "modin_df.applymap(lambda x: x**5+ x**2)\n",
    "modin_time = time.time() - t0\n",
    "print(f\"Modin wall time for completion:{modin_time}s\")"
   ]
  },
  {
   "cell_type": "code",
   "execution_count": 9,
   "id": "770607a8",
   "metadata": {},
   "outputs": [
    {
     "name": "stdout",
     "output_type": "stream",
     "text": [
      "Modin was 41X faster than Stock Pandas!!\n"
     ]
    }
   ],
   "source": [
    "print(f\"Modin was {round(pandas_time/modin_time)}X faster than Stock Pandas!!\")"
   ]
  },
  {
   "cell_type": "markdown",
   "id": "85821f31",
   "metadata": {},
   "source": [
    "## Concatenating Datasets"
   ]
  },
  {
   "cell_type": "code",
   "execution_count": 10,
   "id": "7e630786",
   "metadata": {},
   "outputs": [
    {
     "name": "stdout",
     "output_type": "stream",
     "text": [
      "Stock Pandas wall time for completion:0.8266844749450684s\n"
     ]
    }
   ],
   "source": [
    "t0 = time.time()\n",
    "\n",
    "pd.concat([pandas_df, pandas_df, pandas_df, pandas_df], axis=0)\n",
    "pandas_time = time.time() - t0\n",
    "print(f\"Stock Pandas wall time for completion:{pandas_time}s\")"
   ]
  },
  {
   "cell_type": "code",
   "execution_count": 11,
   "id": "53906e6a",
   "metadata": {},
   "outputs": [
    {
     "name": "stdout",
     "output_type": "stream",
     "text": [
      "Modin wall time for completion:0.028738975524902344s\n"
     ]
    }
   ],
   "source": [
    "t0 = time.time()\n",
    "\n",
    "mpd.concat([modin_df, modin_df, modin_df, modin_df], axis=0)\n",
    "modin_time = time.time() - t0\n",
    "print(f\"Modin wall time for completion:{modin_time}s\")"
   ]
  },
  {
   "cell_type": "code",
   "execution_count": 12,
   "id": "9d1c0db3",
   "metadata": {},
   "outputs": [
    {
     "name": "stdout",
     "output_type": "stream",
     "text": [
      "Modin was 29X faster than Stock Pandas!!\n"
     ]
    }
   ],
   "source": [
    "print(f\"Modin was {round(pandas_time/modin_time)}X faster than Stock Pandas!!\")"
   ]
  },
  {
   "cell_type": "markdown",
   "id": "6729488e",
   "metadata": {},
   "source": [
    "## Appending Datasets"
   ]
  },
  {
   "cell_type": "code",
   "execution_count": 13,
   "id": "2f5e3db6",
   "metadata": {},
   "outputs": [
    {
     "name": "stdout",
     "output_type": "stream",
     "text": [
      "CPU times: user 271 ms, sys: 267 ms, total: 538 ms\n",
      "Wall time: 424 ms\n",
      "Stock Pandas wall time for completion:0.4279768466949463s\n"
     ]
    }
   ],
   "source": [
    "t0 = time.time()\n",
    "\n",
    "%time pandas_df.append(pandas_df)\n",
    "pandas_time = time.time() - t0\n",
    "print(f\"Stock Pandas wall time for completion:{pandas_time}s\")"
   ]
  },
  {
   "cell_type": "code",
   "execution_count": 14,
   "id": "e6613646",
   "metadata": {},
   "outputs": [
    {
     "name": "stdout",
     "output_type": "stream",
     "text": [
      "CPU times: user 21.5 ms, sys: 5.93 ms, total: 27.5 ms\n",
      "Wall time: 15.8 ms\n",
      "Modin wall time for completion:0.0174252986907959s\n"
     ]
    },
    {
     "name": "stderr",
     "output_type": "stream",
     "text": [
      "UserWarning: Due to https://github.com/pandas-dev/pandas/issues/35092, Pandas ignores sort=False; Modin correctly does not sort.\n"
     ]
    }
   ],
   "source": [
    "t0 = time.time()\n",
    "\n",
    "%time modin_df.append(modin_df)\n",
    "modin_time = time.time() - t0\n",
    "print(f\"Modin wall time for completion:{modin_time}s\")"
   ]
  },
  {
   "cell_type": "code",
   "execution_count": 15,
   "id": "8a4bbcff",
   "metadata": {},
   "outputs": [
    {
     "name": "stdout",
     "output_type": "stream",
     "text": [
      "Modin was 25X faster than Stock Pandas!!\n"
     ]
    }
   ],
   "source": [
    "print(f\"Modin was {round(pandas_time/modin_time)}X faster than Stock Pandas!!\")"
   ]
  },
  {
   "cell_type": "code",
   "execution_count": null,
   "id": "f0b1ec9d",
   "metadata": {},
   "outputs": [],
   "source": []
  }
 ],
 "metadata": {
  "kernelspec": {
   "display_name": "intel_sw",
   "language": "python",
   "name": "intel_sw"
  },
  "language_info": {
   "codemirror_mode": {
    "name": "ipython",
    "version": 3
   },
   "file_extension": ".py",
   "mimetype": "text/x-python",
   "name": "python",
   "nbconvert_exporter": "python",
   "pygments_lexer": "ipython3",
   "version": "3.8.13"
  }
 },
 "nbformat": 4,
 "nbformat_minor": 5
}
